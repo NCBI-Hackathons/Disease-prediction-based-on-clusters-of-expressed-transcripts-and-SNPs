{
 "cells": [
  {
   "cell_type": "markdown",
   "metadata": {},
   "source": [
    "## PseudoBulk RNAseq Test:\n",
    "#### Goal:\n",
    "Take single cell RNA-sequencing (scRNAseq) data, convert to pseudobulk data by a few different methods (geometric mean (drop 0’s), arithmetic mean, and harmonic means) for each person, then see how/where these individual patients cluster in the overall disease RNA-seq dataset.  \n",
    "#### Dataset(s):\n",
    "##### Triple Negative Breast Cancer (TNBC)\n",
    "Single cell RNA sequencing of 1,534 cells in six fresh triple negative breast cancer tumors.  Download the GSE11839_tpm_rsem.txt data file. \n",
    "\n",
    "https://www.ncbi.nlm.nih.gov/geo/query/acc.cgi?acc=GSE118389  \n",
    "\n",
    "Karaayvaz M, Cristea S, Gillespie SM, Patel AP et al. Unravelling subclonal heterogeneity and aggressive disease states in TNBC through single-cell RNA-seq. Nat Commun 2018 Sep 4;9(1):3588. PMID: 30181541"
   ]
  },
  {
   "cell_type": "markdown",
   "metadata": {},
   "source": [
    "<b>Step 1:</b> Load necessary libraries to run analysis"
   ]
  },
  {
   "cell_type": "code",
   "execution_count": 27,
   "metadata": {},
   "outputs": [],
   "source": [
    "using DelimitedFiles, Statistics, StatsBase;"
   ]
  },
  {
   "cell_type": "markdown",
   "metadata": {},
   "source": [
    "<b>Step 2:</b> Load raw data of single cell RNA-seq counts. <i><u> Note:</u> this tool cannot handle raw scRNAseq data in a FASTQ format, but often only the RNA counts are freely available in online databases, because the raw data is a protected format.</i>"
   ]
  },
  {
   "cell_type": "code",
   "execution_count": 2,
   "metadata": {},
   "outputs": [],
   "source": [
    "path = \"/github/pseudoBulk/\"           # update the path here\n",
    "file = \"GSE118389_tpm_rsem.txt\"\n",
    "infile = string(path,file)\n",
    "delim = '\\t'\n",
    "rawWithHeader = readdlm(infile, delim);"
   ]
  },
  {
   "cell_type": "markdown",
   "metadata": {},
   "source": [
    "Pull out the patient labels and the gene names from the RNAseq counts data"
   ]
  },
  {
   "cell_type": "code",
   "execution_count": 3,
   "metadata": {},
   "outputs": [
    {
     "name": "stdout",
     "output_type": "stream",
     "text": [
      "Any[\"PT089_P1_A01\", \"PT089_P1_A02\", \"PT089_P1_A03\", \"PT089_P1_A04\", \"PT089_P1_A05\", \"PT089_P1_A06\", \"PT089_P1_A07\", \"PT089_P1_A08\", \"PT089_P1_A09\", \"PT089_P1_A10\"]\n",
      "Any[\"A1BG\", \"A1BG-AS1\", \"A1CF\", \"A2M\", \"A2M-AS1\", \"A2ML1\", \"A2MP1\", \"A3GALT2\", \"A4GALT\", \"A4GNT\"]\n"
     ]
    }
   ],
   "source": [
    "sampleNames = rawWithHeader[1,:];\n",
    "println(sampleNames[1:10])\n",
    "geneNames = rawWithHeader[2:end,1];\n",
    "println(geneNames[1:10])"
   ]
  },
  {
   "cell_type": "code",
   "execution_count": 64,
   "metadata": {},
   "outputs": [
    {
     "name": "stdout",
     "output_type": "stream",
     "text": [
      "[0.0 0.0 0.0 0.0 0.0 0.0 0.0 0.0 0.0 224.88; 0.0 0.0 0.0 0.0 0.0 0.0 0.0 0.0 0.0 0.0; 0.0 0.0 0.0 0.41 0.0 0.0 0.0 0.0 0.0 0.0; 0.0 0.0 0.0 281.39 0.0 0.0 0.0 0.0 0.0 0.0; 0.0 0.0 0.0 0.0 0.0 0.0 0.0 0.0 0.0 0.0; 0.25 0.0 0.0 0.0 0.0 0.11 0.31 0.53 0.0 0.0; 0.0 0.0 0.0 0.0 0.0 0.0 0.0 0.0 0.0 0.0; 0.0 0.0 0.0 0.0 0.0 0.0 0.0 0.0 0.0 0.0; 0.0 0.0 0.0 0.0 0.0 0.0 0.0 0.0 0.0 0.0; 0.0 0.0 0.0 0.0 0.0 0.0 0.0 0.0 0.0 0.0]\n"
     ]
    }
   ],
   "source": [
    "raw = rawWithHeader[2:end,2:end];\n",
    "raw = convert(Array{Float64},raw);\n",
    "println(raw[1:10,1:10])"
   ]
  },
  {
   "cell_type": "markdown",
   "metadata": {},
   "source": [
    "Check the size of the data, as reported in GEO for this dataset, there was single cell RNA-seq data for 1534 distict cells."
   ]
  },
  {
   "cell_type": "code",
   "execution_count": 65,
   "metadata": {},
   "outputs": [
    {
     "data": {
      "text/plain": [
       "(21785, 1534)"
      ]
     },
     "execution_count": 65,
     "metadata": {},
     "output_type": "execute_result"
    }
   ],
   "source": [
    "size(raw)"
   ]
  },
  {
   "cell_type": "markdown",
   "metadata": {},
   "source": [
    "<b>Step 3:</b> Identify distict patient data and subset full dataset accordingly."
   ]
  },
  {
   "cell_type": "markdown",
   "metadata": {},
   "source": [
    "<i>From the sampleName list, determine the unique patient identifier (in this case the first string before the underscore)</i>"
   ]
  },
  {
   "cell_type": "code",
   "execution_count": 6,
   "metadata": {},
   "outputs": [],
   "source": [
    "name = Array{Any}(undef, length(sampleNames)-1, 1)\n",
    "for i=1:(length(sampleNames)-1)\n",
    "    name[i] = split(sampleNames[i],\"_\")[1]\n",
    "end"
   ]
  },
  {
   "cell_type": "code",
   "execution_count": 7,
   "metadata": {},
   "outputs": [
    {
     "data": {
      "text/plain": [
       "6-element Array{Any,1}:\n",
       " \"PT089\"\n",
       " \"PT039\"\n",
       " \"PT058\"\n",
       " \"PT081\"\n",
       " \"PT084\"\n",
       " \"PT126\""
      ]
     },
     "execution_count": 7,
     "metadata": {},
     "output_type": "execute_result"
    }
   ],
   "source": [
    "# identifying unique patient identifiers\n",
    "uniquePtList = unique(name)"
   ]
  },
  {
   "cell_type": "markdown",
   "metadata": {},
   "source": [
    "<i> Once the patients have been identified, create an empty array for each patient. Then fill arrays with each column of scRNAseq count data corresponding to that patient identifier. Repeat for each patient in the dataset. </i>"
   ]
  },
  {
   "cell_type": "code",
   "execution_count": 66,
   "metadata": {},
   "outputs": [
    {
     "data": {
      "text/plain": [
       "21785×0 Array{Float64,2}"
      ]
     },
     "execution_count": 66,
     "metadata": {},
     "output_type": "execute_result"
    }
   ],
   "source": [
    "# collecting individual patient single cell RNAseq counts\n",
    "global TNBCpt1 = Array{Float64}(undef,size(raw)[1],0)\n",
    "global TNBCpt2 = Array{Float64}(undef,size(raw)[1],0)\n",
    "global TNBCpt3 = Array{Float64}(undef,size(raw)[1],0)\n",
    "global TNBCpt4 = Array{Float64}(undef,size(raw)[1],0)\n",
    "global TNBCpt5 = Array{Float64}(undef,size(raw)[1],0)\n",
    "global TNBCpt6 = Array{Float64}(undef,size(raw)[1],0)"
   ]
  },
  {
   "cell_type": "code",
   "execution_count": 67,
   "metadata": {},
   "outputs": [
    {
     "data": {
      "text/plain": [
       "(21785, 333)"
      ]
     },
     "execution_count": 67,
     "metadata": {},
     "output_type": "execute_result"
    }
   ],
   "source": [
    "for j=1:(length(sampleNames)-1)                # for each column in the overall raw data matrix\n",
    "    if name[j] == uniquePtList[1]              # if the unique identifier for that column matches patient 1\n",
    "        global TNBCpt1 = [TNBCpt1 raw[:,j]]    #     then add that column to the patient's scRNAseq array\n",
    "        end                                    #     if not, skip over that column \n",
    "end\n",
    "size(TNBCpt1)                                  # printout final dimensions for patient 1 (geneNum, cellNum)"
   ]
  },
  {
   "cell_type": "code",
   "execution_count": 68,
   "metadata": {},
   "outputs": [
    {
     "data": {
      "text/plain": [
       "(21785, 341)"
      ]
     },
     "execution_count": 68,
     "metadata": {},
     "output_type": "execute_result"
    }
   ],
   "source": [
    "for j=1:(length(sampleNames)-1)\n",
    "    if name[j] == uniquePtList[2]\n",
    "        global TNBCpt2 = [TNBCpt2 raw[:,j]]\n",
    "    end\n",
    "end\n",
    "size(TNBCpt2)"
   ]
  },
  {
   "cell_type": "code",
   "execution_count": 69,
   "metadata": {},
   "outputs": [
    {
     "data": {
      "text/plain": [
       "(21785, 96)"
      ]
     },
     "execution_count": 69,
     "metadata": {},
     "output_type": "execute_result"
    }
   ],
   "source": [
    "for j=1:(length(sampleNames)-1)\n",
    "    if name[j] == uniquePtList[3]\n",
    "        global TNBCpt3 = [TNBCpt3 raw[:,j]]\n",
    "    end\n",
    "end\n",
    "size(TNBCpt3)"
   ]
  },
  {
   "cell_type": "code",
   "execution_count": 70,
   "metadata": {},
   "outputs": [
    {
     "data": {
      "text/plain": [
       "(21785, 288)"
      ]
     },
     "execution_count": 70,
     "metadata": {},
     "output_type": "execute_result"
    }
   ],
   "source": [
    "for j=1:(length(sampleNames)-1)\n",
    "    if name[j] == uniquePtList[4]\n",
    "        global TNBCpt4 = [TNBCpt4 raw[:,j]]\n",
    "    end\n",
    "end\n",
    "size(TNBCpt4)"
   ]
  },
  {
   "cell_type": "code",
   "execution_count": 71,
   "metadata": {},
   "outputs": [
    {
     "data": {
      "text/plain": [
       "(21785, 286)"
      ]
     },
     "execution_count": 71,
     "metadata": {},
     "output_type": "execute_result"
    }
   ],
   "source": [
    "for j=1:(length(sampleNames)-1)\n",
    "    if name[j] == uniquePtList[5]\n",
    "        global TNBCpt5 = [TNBCpt5 raw[:,j]]\n",
    "    end\n",
    "end\n",
    "size(TNBCpt5)"
   ]
  },
  {
   "cell_type": "code",
   "execution_count": 72,
   "metadata": {},
   "outputs": [
    {
     "data": {
      "text/plain": [
       "(21785, 190)"
      ]
     },
     "execution_count": 72,
     "metadata": {},
     "output_type": "execute_result"
    }
   ],
   "source": [
    "for j=1:(length(sampleNames)-1)\n",
    "    if name[j] == uniquePtList[6]\n",
    "        global TNBCpt6 = [TNBCpt6 raw[:,j]]\n",
    "    end\n",
    "end\n",
    "size(TNBCpt6)"
   ]
  },
  {
   "cell_type": "markdown",
   "metadata": {},
   "source": [
    "<b>Step 4:</b> Pseudo-bulk data by averaging together the counts across cells for each gene."
   ]
  },
  {
   "cell_type": "markdown",
   "metadata": {},
   "source": [
    "<i> First create a function to save the data after each type of mean was calculated. </i>"
   ]
  },
  {
   "cell_type": "code",
   "execution_count": 155,
   "metadata": {},
   "outputs": [
    {
     "data": {
      "text/plain": [
       "saveData (generic function with 1 method)"
      ]
     },
     "execution_count": 155,
     "metadata": {},
     "output_type": "execute_result"
    }
   ],
   "source": [
    "function saveData(data,ptNum,typeMean)\n",
    "    dataOut = Array{Any}(undef,size(raw)[1],2);\n",
    "    dataOut[:,1] = geneNames;\n",
    "    dataOut[:,2] = data[:,1];\n",
    "    header = [\"\" uniquePtList[ptNum]]\n",
    "    dataOut = [header; dataOut]\n",
    "    outfile = string(path,uniquePtList[ptNum],\"_bulk\",typeMean,\".txt\")\n",
    "    writedlm(outfile, dataOut, delim)\n",
    "end"
   ]
  },
  {
   "cell_type": "markdown",
   "metadata": {},
   "source": [
    "<i><u> Arithmetic Mean </u></i>"
   ]
  },
  {
   "cell_type": "code",
   "execution_count": 105,
   "metadata": {},
   "outputs": [],
   "source": [
    "## initialize the patient specific pseudo-bulk RNA\n",
    "global TNBCpt1AM = Array{Float64}(undef,size(raw)[1],1);\n",
    "global TNBCpt2AM = Array{Float64}(undef,size(raw)[1],1);\n",
    "global TNBCpt3AM = Array{Float64}(undef,size(raw)[1],1);\n",
    "global TNBCpt4AM = Array{Float64}(undef,size(raw)[1],1);\n",
    "global TNBCpt5AM = Array{Float64}(undef,size(raw)[1],1);\n",
    "global TNBCpt6AM = Array{Float64}(undef,size(raw)[1],1);"
   ]
  },
  {
   "cell_type": "code",
   "execution_count": 169,
   "metadata": {},
   "outputs": [],
   "source": [
    "for k=1:(length(geneNames))                       # for each row in the overall patient's data matrix\n",
    "    global TNBCpt1AM[k,1] = mean(TNBCpt1[k,:])    #    calculate the arithmetic mean over all single cell RNA columns\n",
    "end\n",
    "saveData(TNBCpt1AM,1,\"ArithmeticMean\")            # save the data"
   ]
  },
  {
   "cell_type": "code",
   "execution_count": 170,
   "metadata": {},
   "outputs": [],
   "source": [
    "for k=1:(length(geneNames))                       # for each row in the overall patient's data matrix\n",
    "    global TNBCpt2AM[k,1] = mean(TNBCpt2[k,:])    #    calculate the arithmetic mean over all single cell RNA columns\n",
    "end\n",
    "saveData(TNBCpt2AM,2,\"ArithmeticMean\")            # save the data"
   ]
  },
  {
   "cell_type": "code",
   "execution_count": 171,
   "metadata": {},
   "outputs": [],
   "source": [
    "for k=1:(length(geneNames))                       # for each row in the overall patient's data matrix\n",
    "    global TNBCpt3AM[k,1] = mean(TNBCpt3[k,:])    #    calculate the arithmetic mean over all single cell RNA columns\n",
    "end\n",
    "saveData(TNBCpt3AM,3,\"ArithmeticMean\")            # save the data"
   ]
  },
  {
   "cell_type": "code",
   "execution_count": 172,
   "metadata": {},
   "outputs": [],
   "source": [
    "for k=1:(length(geneNames))                       # for each row in the overall patient's data matrix\n",
    "    global TNBCpt4AM[k,1] = mean(TNBCpt4[k,:])    #    calculate the arithmetic mean over all single cell RNA columns\n",
    "end\n",
    "saveData(TNBCpt4AM,4,\"ArithmeticMean\")            # save the data "
   ]
  },
  {
   "cell_type": "code",
   "execution_count": 173,
   "metadata": {},
   "outputs": [],
   "source": [
    "for k=1:(length(geneNames))                       # for each row in the overall patient's data matrix\n",
    "    global TNBCpt5AM[k,1] = mean(TNBCpt5[k,:])    #    calculate the arithmetic mean over all single cell RNA columns\n",
    "end\n",
    "saveData(TNBCpt5AM,5,\"ArithmeticMean\")            # save the data"
   ]
  },
  {
   "cell_type": "code",
   "execution_count": 174,
   "metadata": {},
   "outputs": [],
   "source": [
    "for k=1:(length(geneNames))                       # for each row in the overall patient's data matrix\n",
    "    global TNBCpt6AM[k,1] = mean(TNBCpt6[k,:])    #    calculate the arithmetic mean over all single cell RNA columns\n",
    "end\n",
    "saveData(TNBCpt6AM,6,\"ArithmeticMean\")            # save the data"
   ]
  },
  {
   "cell_type": "markdown",
   "metadata": {},
   "source": [
    "<i><u> Geometric Mean </u></i>\n",
    "\n",
    "Dropping any cells with 0's in the calculation; also keeping number of cells with non-zero expression"
   ]
  },
  {
   "cell_type": "code",
   "execution_count": 112,
   "metadata": {},
   "outputs": [],
   "source": [
    "## initialize the patient specific pseudo-bulk RNA\n",
    "global TNBCpt1GM = Array{Float64}(undef,size(raw)[1],2);\n",
    "global TNBCpt2GM = Array{Float64}(undef,size(raw)[1],2);\n",
    "global TNBCpt3GM = Array{Float64}(undef,size(raw)[1],2);\n",
    "global TNBCpt4GM = Array{Float64}(undef,size(raw)[1],2);\n",
    "global TNBCpt5GM = Array{Float64}(undef,size(raw)[1],2);\n",
    "global TNBCpt6GM = Array{Float64}(undef,size(raw)[1],2);"
   ]
  },
  {
   "cell_type": "code",
   "execution_count": 175,
   "metadata": {},
   "outputs": [],
   "source": [
    "for k=1:(length(geneNames))                 # for each row in the overall patient's data matrix\n",
    "    global tmp = TNBCpt1[k,:];              #    creates temporary column of gene's exp across cells\n",
    "    global tmp = tmp[tmp.!=0];              #    select for non zero 0 express cells only (A[A.!=0])\n",
    "    global TNBCpt1GM[k,1] = geomean(tmp)    #    calculate the geometric mean over all single cell RNA columns\n",
    "    global TNBCpt1GM[k,2] = Float64(size(tmp)[1])     # have extra column with number of non-zero exp cells\n",
    "end\n",
    "saveData(TNBCpt1GM[:,1],1,\"GeometicMean\")            # save the data"
   ]
  },
  {
   "cell_type": "code",
   "execution_count": 176,
   "metadata": {},
   "outputs": [],
   "source": [
    "for k=1:(length(geneNames))                 # for each row in the overall patient's data matrix\n",
    "    global tmp = TNBCpt2[k,:];              #    creates temporary column of gene's exp across cells\n",
    "    global tmp = tmp[tmp.!=0];              #    select for non zero 0 express cells only (A[A.!=0])\n",
    "    global TNBCpt2GM[k,1] = geomean(tmp)    #    calculate the geometric mean over all single cell RNA columns\n",
    "    global TNBCpt2GM[k,2] = Float64(size(tmp)[1])     # have extra column with number of non-zero exp cells\n",
    "end\n",
    "saveData(TNBCpt2GM[:,1],2,\"GeometicMean\")            # save the data"
   ]
  },
  {
   "cell_type": "code",
   "execution_count": 177,
   "metadata": {},
   "outputs": [],
   "source": [
    "for k=1:(length(geneNames))                 # for each row in the overall patient's data matrix\n",
    "    global tmp = TNBCpt3[k,:];              #    creates temporary column of gene's exp across cells\n",
    "    global tmp = tmp[tmp.!=0];              #    select for non zero 0 express cells only (A[A.!=0])\n",
    "    global TNBCpt3GM[k,1] = geomean(tmp)    #    calculate the geometric mean over all single cell RNA columns\n",
    "    global TNBCpt3GM[k,2] = Float64(size(tmp)[1])     # have extra column with number of non-zero exp cells\n",
    "end\n",
    "saveData(TNBCpt3GM[:,1],3,\"GeometicMean\")            # save the data"
   ]
  },
  {
   "cell_type": "code",
   "execution_count": 178,
   "metadata": {},
   "outputs": [],
   "source": [
    "for k=1:(length(geneNames))                 # for each row in the overall patient's data matrix\n",
    "    global tmp = TNBCpt4[k,:];              #    creates temporary column of gene's exp across cells\n",
    "    global tmp = tmp[tmp.!=0];              #    select for non zero 0 express cells only (A[A.!=0])\n",
    "    global TNBCpt4GM[k,1] = geomean(tmp)    #    calculate the geometric mean over all single cell RNA columns\n",
    "    global TNBCpt4GM[k,2] = Float64(size(tmp)[1])     # have extra column with number of non-zero exp cells\n",
    "end\n",
    "saveData(TNBCpt4GM[:,1],4,\"GeometicMean\")            # save the data "
   ]
  },
  {
   "cell_type": "code",
   "execution_count": 179,
   "metadata": {},
   "outputs": [],
   "source": [
    "for k=1:(length(geneNames))                 # for each row in the overall patient's data matrix\n",
    "    global tmp = TNBCpt5[k,:];              #    creates temporary column of gene's exp across cells\n",
    "    global tmp = tmp[tmp.!=0];              #    select for non zero 0 express cells only (A[A.!=0])\n",
    "    global TNBCpt5GM[k,1] = geomean(tmp)    #    calculate the geometric mean over all single cell RNA columns\n",
    "    global TNBCpt5GM[k,2] = Float64(size(tmp)[1])     # have extra column with number of non-zero exp cells\n",
    "end\n",
    "saveData(TNBCpt5GM[:,1],5,\"GeometicMean\")            # save the data "
   ]
  },
  {
   "cell_type": "code",
   "execution_count": 180,
   "metadata": {},
   "outputs": [],
   "source": [
    "for k=1:(length(geneNames))                 # for each row in the overall patient's data matrix\n",
    "    global tmp = TNBCpt6[k,:];              #    creates temporary column of gene's exp across cells\n",
    "    global tmp = tmp[tmp.!=0];              #    select for non zero 0 express cells only (A[A.!=0])\n",
    "    global TNBCpt6GM[k,1] = geomean(tmp)    #    calculate the geometric mean over all single cell RNA columns\n",
    "    global TNBCpt6GM[k,2] = Float64(size(tmp)[1])     # have extra column with number of non-zero exp cells\n",
    "end\n",
    "saveData(TNBCpt6GM[:,1],6,\"GeometicMean\")            # save the data"
   ]
  },
  {
   "cell_type": "markdown",
   "metadata": {},
   "source": [
    "<i><u> Harmonic Mean </u></i>"
   ]
  },
  {
   "cell_type": "code",
   "execution_count": 119,
   "metadata": {},
   "outputs": [],
   "source": [
    "## initialize the patient specific pseudo-bulk RNA\n",
    "global TNBCpt1HM = Array{Float64}(undef,size(raw)[1],2);\n",
    "global TNBCpt2HM = Array{Float64}(undef,size(raw)[1],2);\n",
    "global TNBCpt3HM = Array{Float64}(undef,size(raw)[1],2);\n",
    "global TNBCpt4HM = Array{Float64}(undef,size(raw)[1],2);\n",
    "global TNBCpt5HM = Array{Float64}(undef,size(raw)[1],2);\n",
    "global TNBCpt6HM = Array{Float64}(undef,size(raw)[1],2);"
   ]
  },
  {
   "cell_type": "code",
   "execution_count": 181,
   "metadata": {},
   "outputs": [],
   "source": [
    "for k=1:(length(geneNames))                 # for each row in the overall patient's data matrix\n",
    "    global tmp = TNBCpt1[k,:];              #    creates temporary column of gene's exp across cells\n",
    "    global tmp = tmp[tmp.!=0];              #    select for non zero 0 express cells only (A[A.!=0])\n",
    "    global TNBCpt1HM[k,1] = harmmean(tmp)   #    calculate the harmonic mean over all single cell RNA columns\n",
    "    global TNBCpt1HM[k,2] = Float64(size(tmp)[1])     # have extra column with number of non-zero exp cells\n",
    "end\n",
    "saveData(TNBCpt1HM[:,1],1,\"HarmonicMean\")             # save the data"
   ]
  },
  {
   "cell_type": "code",
   "execution_count": 182,
   "metadata": {},
   "outputs": [],
   "source": [
    "for k=1:(length(geneNames))                 # for each row in the overall patient's data matrix\n",
    "    global tmp = TNBCpt2[k,:];              #    creates temporary column of gene's exp across cells\n",
    "    global tmp = tmp[tmp.!=0];              #    select for non zero 0 express cells only (A[A.!=0])\n",
    "    global TNBCpt2HM[k,1] = harmmean(tmp)   #    calculate the harmonic mean over all single cell RNA columns\n",
    "    global TNBCpt2HM[k,2] = Float64(size(tmp)[1])     # have extra column with number of non-zero exp cells\n",
    "end\n",
    "saveData(TNBCpt2HM[:,1],2,\"HarmonicMean\")             # save the data"
   ]
  },
  {
   "cell_type": "code",
   "execution_count": 183,
   "metadata": {},
   "outputs": [],
   "source": [
    "for k=1:(length(geneNames))                 # for each row in the overall patient's data matrix\n",
    "    global tmp = TNBCpt3[k,:];              #    creates temporary column of gene's exp across cells\n",
    "    global tmp = tmp[tmp.!=0];              #    select for non zero 0 express cells only (A[A.!=0])\n",
    "    global TNBCpt3HM[k,1] = harmmean(tmp)   #    calculate the harmonic mean over all single cell RNA columns\n",
    "    global TNBCpt3HM[k,2] = Float64(size(tmp)[1])     # have extra column with number of non-zero exp cells\n",
    "end\n",
    "saveData(TNBCpt3HM[:,1],3,\"HarmonicMean\")             # save the data"
   ]
  },
  {
   "cell_type": "code",
   "execution_count": 184,
   "metadata": {},
   "outputs": [],
   "source": [
    "for k=1:(length(geneNames))                 # for each row in the overall patient's data matrix\n",
    "    global tmp = TNBCpt4[k,:];              #    creates temporary column of gene's exp across cells\n",
    "    global tmp = tmp[tmp.!=0];              #    select for non zero 0 express cells only (A[A.!=0])\n",
    "    global TNBCpt4HM[k,1] = harmmean(tmp)   #    calculate the harmonic mean over all single cell RNA columns\n",
    "    global TNBCpt4HM[k,2] = Float64(size(tmp)[1])     # have extra column with number of non-zero exp cells\n",
    "end\n",
    "saveData(TNBCpt4HM[:,1],4,\"HarmonicMean\")             # save the data"
   ]
  },
  {
   "cell_type": "code",
   "execution_count": 185,
   "metadata": {},
   "outputs": [],
   "source": [
    "for k=1:(length(geneNames))                 # for each row in the overall patient's data matrix\n",
    "    global tmp = TNBCpt5[k,:];              #    creates temporary column of gene's exp across cells\n",
    "    global tmp = tmp[tmp.!=0];              #    select for non zero 0 express cells only (A[A.!=0])\n",
    "    global TNBCpt5HM[k,1] = harmmean(tmp)   #    calculate the harmonic mean over all single cell RNA columns\n",
    "    global TNBCpt5HM[k,2] = Float64(size(tmp)[1])     # have extra column with number of non-zero exp cells\n",
    "end\n",
    "saveData(TNBCpt5HM[:,1],5,\"HarmonicMean\")             # save the data"
   ]
  },
  {
   "cell_type": "code",
   "execution_count": 186,
   "metadata": {},
   "outputs": [],
   "source": [
    "for k=1:(length(geneNames))                 # for each row in the overall patient's data matrix\n",
    "    global tmp = TNBCpt6[k,:];              #    creates temporary column of gene's exp across cells\n",
    "    global tmp = tmp[tmp.!=0];              #    select for non zero 0 express cells only (A[A.!=0])\n",
    "    global TNBCpt6HM[k,1] = harmmean(tmp)   #    calculate the harmonic mean over all single cell RNA columns\n",
    "    global TNBCpt6HM[k,2] = Float64(size(tmp)[1])     # have extra column with number of non-zero exp cells\n",
    "end\n",
    "saveData(TNBCpt6HM[:,1],6,\"HarmonicMean\")             # save the data"
   ]
  },
  {
   "cell_type": "markdown",
   "metadata": {},
   "source": [
    "<i><u> Generalized/Power Mean </u></i>"
   ]
  },
  {
   "cell_type": "code",
   "execution_count": 126,
   "metadata": {},
   "outputs": [],
   "source": [
    "## initialize the patient specific pseudo-bulk RNA\n",
    "global TNBCpt1PM = Array{Float64}(undef,size(raw)[1],1);\n",
    "global TNBCpt2PM = Array{Float64}(undef,size(raw)[1],1);\n",
    "global TNBCpt3PM = Array{Float64}(undef,size(raw)[1],1);\n",
    "global TNBCpt4PM = Array{Float64}(undef,size(raw)[1],1);\n",
    "global TNBCpt5PM = Array{Float64}(undef,size(raw)[1],1);\n",
    "global TNBCpt6PM = Array{Float64}(undef,size(raw)[1],1);"
   ]
  },
  {
   "cell_type": "code",
   "execution_count": 168,
   "metadata": {},
   "outputs": [],
   "source": [
    "for k=1:(length(geneNames))                           # for each row in the overall patient's data matrix\n",
    "    global TNBCpt1PM[k,1] = genmean(TNBCpt1[k,:],2)   #   calculate the gen/power mean over all single cell RNA columns\n",
    "end\n",
    "saveData(TNBCpt1PM,1,\"PowerMean\")                      # save the data"
   ]
  },
  {
   "cell_type": "code",
   "execution_count": 167,
   "metadata": {},
   "outputs": [],
   "source": [
    "for k=1:(length(geneNames))                           # for each row in the overall patient's data matrix\n",
    "    global TNBCpt2PM[k,1] = genmean(TNBCpt2[k,:],2)   #   calculate the gen/power mean over all single cell RNA columns\n",
    "end\n",
    "saveData(TNBCpt2PM,2,\"PowerMean\")                      # save the data"
   ]
  },
  {
   "cell_type": "code",
   "execution_count": 166,
   "metadata": {},
   "outputs": [],
   "source": [
    "for k=1:(length(geneNames))                           # for each row in the overall patient's data matrix\n",
    "    global TNBCpt3PM[k,1] = genmean(TNBCpt3[k,:],2)   #   calculate the gen/power mean over all single cell RNA columns\n",
    "end\n",
    "saveData(TNBCpt3PM,3,\"PowerMean\")                      # save the data "
   ]
  },
  {
   "cell_type": "code",
   "execution_count": 165,
   "metadata": {},
   "outputs": [],
   "source": [
    "for k=1:(length(geneNames))                           # for each row in the overall patient's data matrix\n",
    "    global TNBCpt4PM[k,1] = genmean(TNBCpt4[k,:],2)   #   calculate the gen/power mean over all single cell RNA columns\n",
    "end\n",
    "saveData(TNBCpt4PM,4,\"PowerMean\")                      # save the data"
   ]
  },
  {
   "cell_type": "code",
   "execution_count": 164,
   "metadata": {},
   "outputs": [],
   "source": [
    "for k=1:(length(geneNames))                           # for each row in the overall patient's data matrix\n",
    "    global TNBCpt5PM[k,1] = genmean(TNBCpt5[k,:],2)   #   calculate the gen/power mean over all single cell RNA columns\n",
    "end\n",
    "saveData(TNBCpt5PM,5,\"PowerMean\")                      # save the data"
   ]
  },
  {
   "cell_type": "code",
   "execution_count": 163,
   "metadata": {},
   "outputs": [],
   "source": [
    "for k=1:(length(geneNames))                           # for each row in the overall patient's data matrix\n",
    "    global TNBCpt6PM[k,1] = genmean(TNBCpt6[k,:],2)   #   calculate the gen/power mean over all single cell RNA columns\n",
    "end\n",
    "saveData(TNBCpt6PM,6,\"PowerMean\")                      # save the data"
   ]
  },
  {
   "cell_type": "markdown",
   "metadata": {},
   "source": [
    "<i><u> Count Summation </i></u>"
   ]
  },
  {
   "cell_type": "code",
   "execution_count": 133,
   "metadata": {},
   "outputs": [],
   "source": [
    "## initialize the patient specific pseudo-bulk RNA\n",
    "global TNBCpt1S = Array{Float64}(undef,size(raw)[1],1);\n",
    "global TNBCpt2S = Array{Float64}(undef,size(raw)[1],1);\n",
    "global TNBCpt3S = Array{Float64}(undef,size(raw)[1],1);\n",
    "global TNBCpt4S = Array{Float64}(undef,size(raw)[1],1);\n",
    "global TNBCpt5S = Array{Float64}(undef,size(raw)[1],1);\n",
    "global TNBCpt6S = Array{Float64}(undef,size(raw)[1],1);"
   ]
  },
  {
   "cell_type": "code",
   "execution_count": 157,
   "metadata": {},
   "outputs": [],
   "source": [
    "for k=1:(length(geneNames))                     # for each row in the overall patient's data matrix\n",
    "    global TNBCpt1S[k,1] = sum(TNBCpt1[k,:])    #    calculate the arithmetic mean over all single cell RNA columns\n",
    "end\n",
    "saveData(TNBCpt1S,1,\"Sum\")                      # save the data"
   ]
  },
  {
   "cell_type": "code",
   "execution_count": 158,
   "metadata": {},
   "outputs": [],
   "source": [
    "for k=1:(length(geneNames))                     # for each row in the overall patient's data matrix\n",
    "    global TNBCpt2S[k,1] = sum(TNBCpt2[k,:])    #    calculate the arithmetic mean over all single cell RNA columns\n",
    "end\n",
    "saveData(TNBCpt2S,2,\"Sum\")                      # save the data"
   ]
  },
  {
   "cell_type": "code",
   "execution_count": 159,
   "metadata": {},
   "outputs": [],
   "source": [
    "for k=1:(length(geneNames))                     # for each row in the overall patient's data matrix\n",
    "    global TNBCpt3S[k,1] = sum(TNBCpt3[k,:])    #    calculate the arithmetic mean over all single cell RNA columns\n",
    "end\n",
    "saveData(TNBCpt3S,3,\"Sum\")                      # save the data"
   ]
  },
  {
   "cell_type": "code",
   "execution_count": 160,
   "metadata": {},
   "outputs": [],
   "source": [
    "for k=1:(length(geneNames))                     # for each row in the overall patient's data matrix\n",
    "    global TNBCpt4S[k,1] = sum(TNBCpt4[k,:])    #    calculate the arithmetic mean over all single cell RNA columns\n",
    "end\n",
    "saveData(TNBCpt4S,4,\"Sum\")                      # save the data"
   ]
  },
  {
   "cell_type": "code",
   "execution_count": 161,
   "metadata": {},
   "outputs": [],
   "source": [
    "for k=1:(length(geneNames))                     # for each row in the overall patient's data matrix\n",
    "    global TNBCpt5S[k,1] = sum(TNBCpt5[k,:])    #    calculate the arithmetic mean over all single cell RNA columns\n",
    "end\n",
    "saveData(TNBCpt5S,5,\"Sum\")                      # save the data"
   ]
  },
  {
   "cell_type": "code",
   "execution_count": 162,
   "metadata": {},
   "outputs": [],
   "source": [
    "for k=1:(length(geneNames))                     # for each row in the overall patient's data matrix\n",
    "    global TNBCpt6S[k,1] = sum(TNBCpt6[k,:])    #    calculate the arithmetic mean over all single cell RNA columns\n",
    "end\n",
    "saveData(TNBCpt6S,6,\"Sum\")                      # save the data"
   ]
  },
  {
   "cell_type": "code",
   "execution_count": null,
   "metadata": {},
   "outputs": [],
   "source": []
  }
 ],
 "metadata": {
  "kernelspec": {
   "display_name": "Julia 0.7.0",
   "language": "julia",
   "name": "julia-0.7"
  },
  "language_info": {
   "file_extension": ".jl",
   "mimetype": "application/julia",
   "name": "julia",
   "version": "0.7.0"
  }
 },
 "nbformat": 4,
 "nbformat_minor": 2
}
